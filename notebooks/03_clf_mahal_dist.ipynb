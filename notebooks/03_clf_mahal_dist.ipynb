{
  "nbformat": 4,
  "nbformat_minor": 0,
  "metadata": {
    "colab": {
      "name": "03_clf_mahal_dist.ipynb",
      "provenance": []
    },
    "kernelspec": {
      "name": "python3",
      "display_name": "Python 3"
    }
  },
  "cells": [
    {
      "cell_type": "markdown",
      "metadata": {
        "id": "CZwq1CUJFwMt"
      },
      "source": [
        "# マハラノビス距離を用いたクラス識別\n",
        "\n",
        "\n",
        "---\n",
        "## 目的\n",
        "マハラノビス距離を用いて，carとhumanのデータを学習する．その後，学習結果を確認するためにクラス識別実験を行う．\n",
        "\n",
        "\n",
        "## プログラムの動作\n",
        "以下のプログラムを実行すると，`data/cat.txt`と`data/human.txt`の2つを読み込む．次に，共分散行列を求め，マハラノビス距離を用いて認識率を計算する．"
      ]
    },
    {
      "cell_type": "markdown",
      "metadata": {
        "id": "JP_F0BXzGDZY"
      },
      "source": [
        "## 準備\n",
        "プログラムの動作に必要なデータをダウンロードし，zipファイルを解凍する．"
      ]
    },
    {
      "cell_type": "code",
      "metadata": {
        "id": "5VPyTivFe9DM",
        "colab": {
          "base_uri": "https://localhost:8080/",
          "height": 51
        },
        "outputId": "54d55e5e-0000-4525-8a97-f3ae6cf8900b"
      },
      "source": [
        "import gdown\n",
        "gdown.download('https://drive.google.com/uc?id=1Li0sdp2loJ7rcZjtzIx7uGG3r6Vs62TO', 'car_human_data.zip', quiet=False)\n",
        "!unzip -q -o car_human_data.zip\n",
        "!mv car_human_data data\n",
        "!ls -R ./data"
      ],
      "execution_count": null,
      "outputs": [
        {
          "output_type": "stream",
          "text": [
            "data  data.zip\t__MACOSX  sample_data\n",
            "car.txt  human.txt\n"
          ],
          "name": "stdout"
        }
      ]
    },
    {
      "cell_type": "markdown",
      "metadata": {
        "id": "wXEV1VK9e_4E"
      },
      "source": [
        "## モジュールのインポート\n",
        "初めに，必要なモジュールをインポートする．\n",
        "\n",
        "今回は，マハラノビス距離と共分散行列を求めるために`EmpiricalCovariance`をインポートする．\n"
      ]
    },
    {
      "cell_type": "code",
      "metadata": {
        "id": "TiEF_Y9wfAA3"
      },
      "source": [
        "from os import path\n",
        "import numpy as np\n",
        "from sklearn.covariance import EmpiricalCovariance"
      ],
      "execution_count": null,
      "outputs": []
    },
    {
      "cell_type": "markdown",
      "metadata": {
        "id": "ucLFYJfkfAGU"
      },
      "source": [
        "## データの読み込み\n",
        "次に，テキストファイルを読み込む．"
      ]
    },
    {
      "cell_type": "code",
      "metadata": {
        "id": "zJ2dbgEPfANK",
        "colab": {
          "base_uri": "https://localhost:8080/",
          "height": 51
        },
        "outputId": "10d4c679-1c79-4dbd-b73b-a1aa7ef7ee73"
      },
      "source": [
        "in_txt1 = open(path.join('data', 'car.txt'))\n",
        "in_txt2 = open(path.join('data', 'human.txt'))\n",
        "\n",
        "car = np.asarray([(line.strip()).split('\\t') for line in in_txt1], dtype=float)\n",
        "print(car.shape)\n",
        "human = np.asarray([(line.strip()).split('\\t') for line in in_txt2], dtype=float)\n",
        "print(human.shape)"
      ],
      "execution_count": null,
      "outputs": [
        {
          "output_type": "stream",
          "text": [
            "(110, 2)\n",
            "(382, 2)\n"
          ],
          "name": "stdout"
        }
      ]
    },
    {
      "cell_type": "markdown",
      "metadata": {
        "id": "HmI6vVe8fAVQ"
      },
      "source": [
        "## 共分散行列の計算\n",
        "マハラノビス距離を求めるためには，母集団の共分散行列を求める必要がある．scikit-learnを用いれば，共分散行列は1つの関数で簡単に求めることができる．\n",
        "\n",
        "carとhumanそれぞれの共分散行列を求めて，変数car_covとhuman_covに代入している．"
      ]
    },
    {
      "cell_type": "code",
      "metadata": {
        "id": "uegt8qNFfAbx"
      },
      "source": [
        "car_cov = EmpiricalCovariance().fit(car)\n",
        "human_cov = EmpiricalCovariance().fit(human)"
      ],
      "execution_count": null,
      "outputs": []
    },
    {
      "cell_type": "markdown",
      "metadata": {
        "id": "ez-NqbW8iEdk"
      },
      "source": [
        " ## マハラノビス距離で識別\n",
        " 先程求めた共分散行列を用いて，データ1つ1つに対してマハラノビス距離を求める．\n",
        "carの共分散行列に対してcarの距離を求めると距離が近くなり，humanの共分散行列に対してcarの距離を求めると距離が遠くなる．\n",
        "\n",
        "言い換えれば，あるデータがcarかhumanかわからないとき，共分散行列を用いて距離が近い方に所属させることでクラスタリングを行うことができる．"
      ]
    },
    {
      "cell_type": "code",
      "metadata": {
        "id": "l4S2CU21iEi9",
        "colab": {
          "base_uri": "https://localhost:8080/",
          "height": 34
        },
        "outputId": "370eafb1-40f8-424b-b070-966969e97679"
      },
      "source": [
        "#calc distance each class for car data\n",
        "car_mahal = car_cov.mahalanobis(car)\n",
        "human_mahal = human_cov.mahalanobis(car)\n",
        "\n",
        "car_correct = 0\n",
        "for c_dist, h_dist in zip(car_mahal, human_mahal):\n",
        "    if c_dist < h_dist:\n",
        "        car_correct +=1\n",
        "print('car recognition rate : ' , car_correct / float(car.shape[0]) , '(' , car_correct ,'/', car.shape[0] , ')')"
      ],
      "execution_count": null,
      "outputs": [
        {
          "output_type": "stream",
          "text": [
            "car recognition rate :  0.9 ( 99 / 110 )\n"
          ],
          "name": "stdout"
        }
      ]
    },
    {
      "cell_type": "markdown",
      "metadata": {
        "id": "YjQPECeOielk"
      },
      "source": [
        "初めの3行では，carとhumanの2つの共分散行列に対して，どちらもcarのデータでマハラノビス距離を求める．\n",
        "\n",
        "識別率を計算するためにcar_correct変数を初期化(ゼロを代入)して，for文で各データに対して識別テストを行っている．先程求めたマハラノビス距離を1つずつ比較して，carの方が小さければ識別成功とする．なぜならば，c_distはcarの共分散行列を用いてcarの距離を計算している値であり，h_distはhumanの共分散行列を用いてcarの距離を計算している値である．正しく識別できているならばc_distの方が小さくなるからである\n",
        "\n",
        "最後に，識別できた数をデータの母数で割って識別率を計算する．\n",
        "\n",
        "humanについても同様に識別率を計算する．"
      ]
    },
    {
      "cell_type": "code",
      "metadata": {
        "id": "4P-ppS6_iExB",
        "colab": {
          "base_uri": "https://localhost:8080/",
          "height": 34
        },
        "outputId": "05c1066f-4d67-4fd1-aab1-048e9c214347"
      },
      "source": [
        "#calc distance each class for human data\n",
        "car_mahal = car_cov.mahalanobis(human)\n",
        "human_mahal = human_cov.mahalanobis(human)\n",
        "\n",
        "human_correct = 0\n",
        "for c_dist, h_dist in zip(car_mahal, human_mahal):\n",
        "    if h_dist < c_dist:\n",
        "        human_correct +=1\n",
        "print('human recognition rate : ' , human_correct / float(human.shape[0]), '(' , human_correct ,'/', human.shape[0] , ')')"
      ],
      "execution_count": null,
      "outputs": [
        {
          "output_type": "stream",
          "text": [
            "human recognition rate :  0.93717277486911 ( 358 / 382 )\n"
          ],
          "name": "stdout"
        }
      ]
    },
    {
      "cell_type": "markdown",
      "metadata": {
        "id": "qL2iQqtriE3u"
      },
      "source": [
        "## 平均識別率の計算\n",
        "最後に，2つの識別率をあわせて平均の識別率を求める．"
      ]
    },
    {
      "cell_type": "code",
      "metadata": {
        "id": "LKz9-m22iE_E",
        "colab": {
          "base_uri": "https://localhost:8080/",
          "height": 34
        },
        "outputId": "79d7bfeb-9280-4111-cfa4-4d351fa79945"
      },
      "source": [
        "print('average recognition rate : ' , ( car_correct / float(car.shape[0]) + human_correct / float(human.shape[0]) ) / 2.0)"
      ],
      "execution_count": null,
      "outputs": [
        {
          "output_type": "stream",
          "text": [
            "average recognition rate :  0.918586387434555\n"
          ],
          "name": "stdout"
        }
      ]
    },
    {
      "cell_type": "markdown",
      "metadata": {
        "id": "etHUykE8iFGz"
      },
      "source": [
        "## グラフの描画\n",
        "matplotlibを用いて，マハラノビス距離の関数を等高線のように表示する．carのデータを青色で，humanのデータを赤色でプロットし，それぞれのマハラノビス距離を等高線グラフとして表示する．また，これまでと同じように識別境界のわかるグラフも作成する．グラフ作成方法の詳しい説明は割愛する．"
      ]
    },
    {
      "cell_type": "code",
      "metadata": {
        "id": "EQjBPSaUiFMF",
        "colab": {
          "base_uri": "https://localhost:8080/",
          "height": 499
        },
        "outputId": "e979802d-1692-4e88-ad3f-fa80c7e13376"
      },
      "source": [
        "#data plot\n",
        "import matplotlib.pyplot as plt\n",
        "\n",
        "fig = plt.figure()\n",
        "subfig = fig.add_subplot(1, 1, 1)\n",
        "plt.xlim(0, 10000)\n",
        "plt.ylim(20, 50)\n",
        "\n",
        "#Show contours of the distance functions\n",
        "xx, yy = np.meshgrid(np.linspace(plt.xlim()[0], plt.xlim()[1], 500),\n",
        "                     np.linspace(plt.ylim()[0], plt.ylim()[1], 500))\n",
        "zz = np.c_[xx.ravel(), yy.ravel()]\n",
        "\n",
        "car_mahal_emp_cov = car_cov.mahalanobis(zz)\n",
        "car_mahal_emp_cov_reshape = car_mahal_emp_cov.reshape(xx.shape)\n",
        "\n",
        "human_mahal_emp_cov = human_cov.mahalanobis(zz)\n",
        "human_mahal_emp_cov_reshape = human_mahal_emp_cov.reshape(xx.shape)\n",
        "\n",
        "Z = []\n",
        "for c_dist, h_dist in zip(car_mahal_emp_cov, human_mahal_emp_cov):\n",
        "    if c_dist < h_dist:\n",
        "        Z.append(0)\n",
        "    else:\n",
        "        Z.append(1)\n",
        "Z = np.asarray(Z)\n",
        "Z = Z.reshape(xx.shape)\n",
        "cs = plt.contourf(xx, yy, Z, cmap=plt.cm.Paired)\n",
        "\n",
        "levels = [0.03, 1, 2, 3, 4]\n",
        "car_emp_cov_contour = subfig.contour(xx, yy, np.sqrt(car_mahal_emp_cov_reshape), levels,\n",
        "                                     cmap=plt.cm.PuBu_r,\n",
        "                                     linestyles='solid')\n",
        "human_emp_cov_contour = subfig.contour(xx, yy, np.sqrt(human_mahal_emp_cov_reshape), levels,\n",
        "                                       cmap=plt.cm.YlOrRd_r,\n",
        "                                       linestyles='solid')\n",
        "\n",
        "\n",
        "car_plot = subfig.scatter(car[:, 0], car[:, 1], color='blue', label='car')\n",
        "human_plot = subfig.scatter(human[:, 0], human[:, 1], color='red', label='human')\n",
        "\n",
        "subfig.set_title('03 Mahalanobis Distance')\n",
        "subfig.set_xlabel('Area')\n",
        "subfig.set_ylabel('complexity')\n",
        "\n",
        "plt.savefig(\"03_graph.png\")\n",
        "plt.show()"
      ],
      "execution_count": null,
      "outputs": [
        {
          "output_type": "stream",
          "text": [
            "/usr/local/lib/python3.6/dist-packages/matplotlib/axes/_base.py:3215: MatplotlibDeprecationWarning: \n",
            "The `xmin` argument was deprecated in Matplotlib 3.0 and will be removed in 3.2. Use `left` instead.\n",
            "  alternative='`left`', obj_type='argument')\n",
            "/usr/local/lib/python3.6/dist-packages/matplotlib/axes/_base.py:3221: MatplotlibDeprecationWarning: \n",
            "The `xmax` argument was deprecated in Matplotlib 3.0 and will be removed in 3.2. Use `right` instead.\n",
            "  alternative='`right`', obj_type='argument')\n",
            "/usr/local/lib/python3.6/dist-packages/matplotlib/axes/_base.py:3604: MatplotlibDeprecationWarning: \n",
            "The `ymin` argument was deprecated in Matplotlib 3.0 and will be removed in 3.2. Use `bottom` instead.\n",
            "  alternative='`bottom`', obj_type='argument')\n",
            "/usr/local/lib/python3.6/dist-packages/matplotlib/axes/_base.py:3610: MatplotlibDeprecationWarning: \n",
            "The `ymax` argument was deprecated in Matplotlib 3.0 and will be removed in 3.2. Use `top` instead.\n",
            "  alternative='`top`', obj_type='argument')\n"
          ],
          "name": "stderr"
        },
        {
          "output_type": "display_data",
          "data": {
            "image/png": "[encoded data removed]",
            "text/plain": [
              "<Figure size 432x288 with 1 Axes>"
            ]
          },
          "metadata": {
            "tags": []
          }
        }
      ]
    },
    {
      "cell_type": "markdown",
      "metadata": {
        "id": "PtHS0nRDjGCX"
      },
      "source": [
        "## 課題\n",
        "1. ユークリッド距離とマハラノビス距離の結果を比較し，結果が異なる理由をまとめよ．\n",
        "2. 値[2000.0, 40.0]はcar/humanどちらに属するか．マハラノビス距離を用いて識別せよ．\n",
        "\n",
        "## ヒント\n",
        "1. ユークリッド距離とマハラノビス距離がそれぞれどんなものかを確認しよう．\n",
        "2. 2つの共分散行列を用いて確認する．データはnp.array([[2000.0, 40.0]])として与える．"
      ]
    }
  ]
}