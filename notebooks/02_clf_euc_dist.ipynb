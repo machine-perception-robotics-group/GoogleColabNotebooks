{
  "nbformat": 4,
  "nbformat_minor": 0,
  "metadata": {
    "colab": {
      "name": "02_clf_euc_dist.ipynb",
      "provenance": [],
      "include_colab_link": true
    },
    "kernelspec": {
      "name": "python3",
      "display_name": "Python 3"
    }
  },
  "cells": [
    {
      "cell_type": "markdown",
      "metadata": {
        "id": "view-in-github",
        "colab_type": "text"
      },
      "source": [
        "<a href=\"https://colab.research.google.com/github/machine-perception-robotics-group/GoogleColabNotebooks/blob/master/notebooks/02_clf_euc_dist.ipynb\" target=\"_parent\"><img src=\"https://colab.research.google.com/assets/colab-badge.svg\" alt=\"Open In Colab\"/></a>"
      ]
    },
    {
      "cell_type": "markdown",
      "metadata": {
        "id": "dFGXkiFABEDP"
      },
      "source": [
        "# ユークリッド距離を用いたクラス識別\n",
        "\n",
        "\n",
        "---\n",
        "## 目的\n",
        "プロトタイプ法を用いて，carとhumanのデータのプロトタイプを求める．その後，プロトタイプとテストデータのユークリッド距離を求めることでクラス識別を行う．\n",
        "\n",
        "\n",
        "## プログラムの動作\n",
        "下記のプログラムを実行すると，`data/cat.txt`と`data/human.txt`の2つを読み込む．次に，データからプロトタイプとして重心を求める．求めた重心からユークリッド距離を計算することでクラス識別を行い，識別結果を表示する．最後に，識別されたグラフを表示する．"
      ]
    },
    {
      "cell_type": "markdown",
      "metadata": {
        "id": "PwAdWhoDB_Pm"
      },
      "source": [
        "## 準備\n",
        "プログラムの動作に必要なデータをダウンロードし，zipファイルを解凍する．`！`で始まるコマンドはpythonではなく，Linux（Ubuntu）のコマンドを実行している．"
      ]
    },
    {
      "cell_type": "code",
      "metadata": {
        "id": "cbarG0oKKgTn"
      },
      "source": [
        "import gdown\n",
        "gdown.download('https://drive.google.com/uc?id=1Li0sdp2loJ7rcZjtzIx7uGG3r6Vs62TO', 'car_human_data.zip', quiet=False)\n",
        "!unzip -q -o car_human_data.zip\n",
        "!mv car_human_data data\n",
        "!ls -R ./data"
      ],
      "execution_count": null,
      "outputs": []
    },
    {
      "cell_type": "markdown",
      "metadata": {
        "id": "OmsYKxx7CG3n"
      },
      "source": [
        "## モジュールのインポート\n",
        "初めに，必要なモジュールをインポートする．"
      ]
    },
    {
      "cell_type": "code",
      "metadata": {
        "id": "hQAMi3ToBDI2"
      },
      "source": [
        "from os import path\n",
        "import numpy as np"
      ],
      "execution_count": null,
      "outputs": []
    },
    {
      "cell_type": "markdown",
      "metadata": {
        "id": "ungmkPlaBDyj"
      },
      "source": [
        "##データの読み込み\n",
        "次に，テキストファイルを読み込む．\n",
        "\n",
        "`path.join`はpathモジュール内にある関数で，パスを連結する関数である．ここでは`path.join('data', 'car.txt')`とあるので，`data/car.txt`を返す．\n",
        "\n",
        "`[配列名].shape`は，その配列の要素数を出力する．"
      ]
    },
    {
      "cell_type": "code",
      "metadata": {
        "id": "rCrCQzcFCdsX"
      },
      "source": [
        "in_txt1 = open(path.join('data', 'car.txt'))\n",
        "in_txt2 = open(path.join('data', 'human.txt'))\n",
        "\n",
        "car = np.asarray([(line.strip()).split('\\t') for line in in_txt1], dtype=float)\n",
        "print(car.shape)\n",
        "human = np.asarray([(line.strip()).split('\\t') for line in in_txt2], dtype=float)\n",
        "print(human.shape)"
      ],
      "execution_count": null,
      "outputs": []
    },
    {
      "cell_type": "markdown",
      "metadata": {
        "id": "qN9ZOYZWCvVO"
      },
      "source": [
        "## 各データのプロトタイプを計算\n",
        "データのプロトタイプを計算する．ここでは，プロトタイプとして「各クラスの重心」を用いる．"
      ]
    },
    {
      "cell_type": "code",
      "metadata": {
        "id": "F-KmKcOlCvjM"
      },
      "source": [
        "car_mean = np.array([ np.mean(car[:,0]), np.mean(car[:,1]) ])\n",
        "human_mean = np.array([ np.mean(human[:,0]), np.mean(human[:,1]) ])"
      ],
      "execution_count": null,
      "outputs": []
    },
    {
      "cell_type": "markdown",
      "metadata": {
        "id": "XvXfNe-0CvrG"
      },
      "source": [
        "`np.mean([複数の要素])`は，与えられた要素の平均値を求めるnumpyの関数である．`car[:,0]`でcar配列のX軸側のデータのみを抽出することができ，これの平均値を取る．同じように`car[:,1]`でY軸側のデータの平均値を取り，再び`np.array()`でnumpyの配列としている．つまり，`car_mean`および`human_mean`は，それぞれのクラスの平均値が入ることになる．"
      ]
    },
    {
      "cell_type": "markdown",
      "metadata": {
        "id": "yyCxuRKLC5gW"
      },
      "source": [
        "meanの確認をします．"
      ]
    },
    {
      "cell_type": "code",
      "metadata": {
        "id": "IrfCgHwlCvz4"
      },
      "source": [
        "print(car_mean)\n",
        "print(human_mean)"
      ],
      "execution_count": null,
      "outputs": []
    },
    {
      "cell_type": "markdown",
      "metadata": {
        "id": "9Z6q_Z3bDKZx"
      },
      "source": [
        "##学習用データの作成\n",
        "先ほど得られたデータと重心を学習用に変更する．"
      ]
    },
    {
      "cell_type": "code",
      "metadata": {
        "id": "zWjdhxPcDPcy"
      },
      "source": [
        "car_mean_test = np.array([car_mean[0], ( car_mean[1] - 20.0 ) * 266.7 ])\n",
        "human_mean_test = np.array([ human_mean[0], ( human_mean[1] - 20.0 ) * 266.7 ])\n",
        "\n",
        "car_test = np.c_[ car[:,0], ( car[:,1] - 20.0 ) * 266.7 ]\n",
        "human_test = np.c_[ human[:,0], ( human[:,1] - 20.0 ) * 266.7 ]"
      ],
      "execution_count": null,
      "outputs": []
    },
    {
      "cell_type": "markdown",
      "metadata": {
        "id": "qiPKj7YlDPpJ"
      },
      "source": [
        "作成された配列は次の通りである：\n",
        "\n",
        "- `car_mean_test`配列：carの重心のy軸の値を変化させたもの\n",
        "- `human_mean_test`配列：humanの重心のy軸の値を変化させたもの\n",
        "- `car_test`配列：carのデータのy軸の値すべてを変化させたもの\n",
        "- `human_test`配列：humanのデータのy軸の値すべてを変化させたもの\n",
        "\n",
        "y軸の値はすべて`( 元のy軸の値 - 20.0 ) * 266.7`をしている．なぜこのようなことを行うかというと，x軸とy軸とでスケールが異なり，ユークリッド距離が正しく計算できないからである．前回出力したグラフ`01_graph.png`を見てみると，x軸の範囲が`0`から`10000`なのに対して，y軸の範囲は`0(変更後は20)`から`50`となっていることがわかる．このように，x軸の値に対してy軸の値が小さすぎるため，距離を計算するとy軸の値がほとんど反映されない．そこで，上記の処理を行うことにより，y軸の範囲を`20〜50`から`0〜約8000`に変更して，x軸とy軸のスケールがおおよそ同じになるように変更する．ユークリッド距離を計算するときは，この値を利用する．"
      ]
    },
    {
      "cell_type": "markdown",
      "metadata": {
        "id": "Mv0y4S1dDZl1"
      },
      "source": [
        "## 識別率の計算\n",
        "先程求めたプロトタイプを用いて，データ1つ1つに対してユークリッド距離を求める．\n",
        "carのプロトタイプに対してcarの距離を求めると距離が近くなり，humanのプロトタイプに対してcarの距離を求めると距離が遠くなる．\n",
        "言い換えれば，あるデータがcarかhumanかわからないとき，距離が近い方に所属させることで識別を行うことができる．"
      ]
    },
    {
      "cell_type": "code",
      "metadata": {
        "id": "i7GV2EnBDPve"
      },
      "source": [
        "car_correct = 0\n",
        "for i in range(0,car_test.shape[0]):\n",
        "    human_dist = np.linalg.norm( car_test[i] - human_mean_test )\n",
        "    car_dist = np.linalg.norm( car_test[i] - car_mean_test )\n",
        "    if car_dist < human_dist:\n",
        "        car_correct += 1\n",
        "\n",
        "print('car recognition rate : ' , car_correct / float(car.shape[0]) , '(' , car_correct ,'/', car.shape[0] , ')')"
      ],
      "execution_count": null,
      "outputs": []
    },
    {
      "cell_type": "markdown",
      "metadata": {
        "id": "q_-BhgrWDP1C"
      },
      "source": [
        "識別率を計算するために`car_correct`変数を初期化(ゼロを代入)して，for文で各データに対して識別テストを行っている．\n",
        "\n",
        "`np.linalg.norm(a-b)`はaとbのユークリッド距離を求めることができるnumpyの関数である．これを利用してテストデータと`human`プロトタイプのユークリッド距離`human_dist`，テストデータと`car`プロトタイプのユークリッド距離`car_dist`を求める．\n",
        "\n",
        "識別は，`human_dist`より`car_dist`の方が小さければ識別成功とする．なぜならば，`car_dist`はcarのプロトタイプを用いてcarの距離を計算している値であり，`human_dist`はhumanのプロトタイプを用いてcarの距離を計算している値である．正しく識別できているならば`car_dist`の方が小さくなるからである\n",
        "\n",
        "最後に，識別できた数をデータの母数で割って識別率を計算する．\n",
        "\n",
        "humanについても同様に処理を行い，識別率を計算する．"
      ]
    },
    {
      "cell_type": "code",
      "metadata": {
        "id": "J2Af5XnWDP7R"
      },
      "source": [
        "human_correct = 0\n",
        "for i in range(0,human_test.shape[0]):\n",
        "    human_dist = np.linalg.norm( human_test[i] - human_mean_test )\n",
        "    car_dist = np.linalg.norm( human_test[i] - car_mean_test )\n",
        "    if human_dist < car_dist:\n",
        "        human_correct += 1\n",
        "\n",
        "print('human recognition rate : ' , human_correct / float(human.shape[0]), '(' , human_correct ,'/', human.shape[0] , ')')"
      ],
      "execution_count": null,
      "outputs": []
    },
    {
      "cell_type": "markdown",
      "metadata": {
        "id": "RzpTXm3RER1P"
      },
      "source": [
        "先程の場合に対して，carとhumanの立場が逆転している．"
      ]
    },
    {
      "cell_type": "code",
      "metadata": {
        "id": "FcR-xunSEWEe"
      },
      "source": [
        "print('average recognition rate : ' , ( car_correct / float(car.shape[0]) + human_correct / float(human.shape[0]) ) / 2.0)"
      ],
      "execution_count": null,
      "outputs": []
    },
    {
      "cell_type": "markdown",
      "metadata": {
        "id": "7NezsJ-WETGU"
      },
      "source": [
        "## グラフの描画\n",
        "matplotlibを用いて，識別結果のグラフを表示する．carとhumanのデータをプロットして，ユークリッド距離による識別結果を塗りつぶしたグラフで表示している．"
      ]
    },
    {
      "cell_type": "code",
      "metadata": {
        "id": "kty4-JLoDQEY"
      },
      "source": [
        "import matplotlib.pyplot as plt\n",
        "\n",
        "fig = plt.figure()\n",
        "subfig = fig.add_subplot(1,1,1)\n",
        "plt.xlim(xmin=0, xmax = 10000)\n",
        "plt.ylim(ymin=20, ymax = 50)\n",
        "\n",
        "xx, yy = np.meshgrid(np.linspace(plt.xlim()[0], plt.xlim()[1], 500),\n",
        "                     np.linspace(plt.ylim()[0], plt.ylim()[1], 500))\n",
        "\n",
        "graphdata = np.c_[xx.ravel(), ( yy.ravel() - 20.0 ) * 266.7 ]\n",
        "Z = []\n",
        "for i in range(0, graphdata.shape[0]):\n",
        "    human_dist = np.linalg.norm( graphdata[i] - human_mean_test )\n",
        "    car_dist = np.linalg.norm( graphdata[i] - car_mean_test )\n",
        "    if car_dist < human_dist:\n",
        "        Z.append(0)\n",
        "    else:\n",
        "        Z.append(1)\n",
        "\n",
        "Z = np.asarray(Z)\n",
        "Z = Z.reshape(xx.shape)\n",
        "cs = plt.contourf(xx, yy, Z, cmap=plt.cm.Paired)\n",
        "\n",
        "subfig.scatter(car[:,0], car[:,1],color='black')\n",
        "subfig.scatter(human[:,0], human[:,1],color='red')\n",
        "\n",
        "subfig.plot(human_mean[0], human_mean[1], color=\"r\", marker=\"x\", markersize=15)\n",
        "subfig.plot(car_mean[0], car_mean[1],  color=\"k\", marker=\"x\", markersize=15)\n",
        "\n",
        "subfig.set_title('02 Euclid Distance')\n",
        "subfig.set_xlabel('Area')\n",
        "subfig.set_ylabel('complexity')\n",
        "\n",
        "plt.show()"
      ],
      "execution_count": null,
      "outputs": []
    },
    {
      "cell_type": "markdown",
      "metadata": {
        "id": "0Yb01P2YEuIz"
      },
      "source": [
        "はじめに，グラフを描画するために`matplotlib.pyplot`をインポートする．基本的には第1回と同じである．今回はグラフのcarのエリアとhumanのエリアを別の色で塗りつぶすという処理を行う．ここでは，詳細な説明は割愛し簡単な説明にとどめるが，興味のある人は「python meshgrid contour」「python 等高線」等で調べてみると良い．\n",
        "\n",
        "まず，numpyの`meshgrid`を用いて，グラフ描画エリアを細かく等分して格子点を作成する．これを行うことにより，`xx`と`yy`の2つの配列に格子点の各点の値が代入される．\n",
        "\n",
        "`graphdata = np.c_[xx.ravel(), ( yy.ravel() - 20.0 ) * 266.7 ]`は，先ほど得られた2つの配列を用いて，格子点をグラフ描画のために変更する．`配列.ravel()`は多次元の配列をばらばらにして1次元のものにし，`np.c_[配列1,配列2]`は2つ以上の1次元配列を合成して多次元配列にする関数である．ただし，y軸は先ほど述べた理由により，値を変更している．\n",
        "\n",
        "for文では，配列`graphdata`の要素ひとつひとつに対してcarおよびhumanのユークリッド距離を計算して，どちらに分類されるか確認する．humanに属するなら0，carに属するなら1と判定して，結果をリスト`Z`に代入する\n",
        "\n",
        "また，`subfig.plot(human_mean[0], human_mean[1], color=\"r\", marker=\"x\", markersize=15)`は，それぞれのクラスのプロトタイプをバツ印でプロットする．引数の意味は順番に`X値, Y値, color=プロットする色, marker=プロットする印, markersize=プロットするサイズ`である．`marker`は他に「o:丸印」や「^:三角」などが使える．"
      ]
    },
    {
      "cell_type": "markdown",
      "metadata": {
        "id": "Sy5MlmG5Eqtl"
      },
      "source": [
        "## 課題\n",
        "\n",
        "1. 値[2000.0, 40.0]はcar/humanどちらに属するか．ユークリッド距離を表示してどちらのクラスに識別されるか説明せよ．\n",
        "\n",
        "## ヒント\n",
        "\n",
        "1. 2つのプロトタイプを用いて距離を確認する．データは`np.array([[2000.0, 40.0]])`として与える．"
      ]
    }
  ]
}