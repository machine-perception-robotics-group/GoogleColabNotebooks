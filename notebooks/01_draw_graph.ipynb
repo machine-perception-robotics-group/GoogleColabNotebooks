{
  "nbformat": 4,
  "nbformat_minor": 0,
  "metadata": {
    "accelerator": "GPU",
    "colab": {
      "name": "01_draw_graph.ipynb",
      "provenance": []
    },
    "kernelspec": {
      "display_name": "Python 3",
      "language": "python",
      "name": "python3"
    },
    "language_info": {
      "codemirror_mode": {
        "name": "ipython",
        "version": 3
      },
      "file_extension": ".py",
      "mimetype": "text/x-python",
      "name": "python",
      "nbconvert_exporter": "python",
      "pygments_lexer": "ipython3",
      "version": "3.5.2"
    }
  },
  "cells": [
    {
      "cell_type": "markdown",
      "metadata": {
        "id": "aPz4tWG9JVCx"
      },
      "source": [
        "# グラフを描画する\n",
        "\n",
        "---\n",
        "## 目的\n",
        "\n",
        "また，PythonとNumpy，Matplotlibを利用して，データをグラフに描画する．今回はPythonに初めて触れる者にも理解できるように細かい説明をつけている．ただし，C言語やLinuxについてある程度理解しておくことが望ましい．"
      ]
    },
    {
      "cell_type": "markdown",
      "metadata": {
        "id": "Lqbcj7vi2ZYW"
      },
      "source": [
        "## グラフの描画\n",
        "下記のプログラムを実行すると，`data/car.txt`と`data/human.txt`の2つを読み込みグラフにする．グラフは`graph.png`として保存される．\n",
        "\n",
        "\n",
        "## 準備\n",
        "プログラムの動作に必要なデータをダウンロードし，zipファイルを解凍する．`！`で始まるコマンドはpythonではなく，Linux（Ubuntu）のコマンドを実行している．"
      ]
    },
    {
      "cell_type": "code",
      "metadata": {
        "id": "2x_ZZqWyJUPc"
      },
      "source": [
        "import gdown\n",
        "gdown.download('https://drive.google.com/uc?id=1Li0sdp2loJ7rcZjtzIx7uGG3r6Vs62TO', 'car_human_data.zip', quiet=False)\n",
        "!unzip -q -o car_human_data.zip\n",
        "!mv car_human_data data\n",
        "!ls -R ./data"
      ],
      "execution_count": null,
      "outputs": []
    },
    {
      "cell_type": "markdown",
      "metadata": {
        "id": "ukshvBIR46BO"
      },
      "source": [
        "## モジュールのインポート\n",
        "初めに，必要なモジュールを`import`文でインポートする．C/C++の`#include`に似ている．\n",
        "\n",
        "ここでは，次のモジュールをインポートする：\n",
        "\n",
        "- `path`：ファイル構造を取り扱うためのライブラリ\n",
        "- `numpy`：数値計算ライブラリ※\n",
        "- `matplotlib`：グラフ描画ライブラリ※\n",
        "\n",
        "`from os import path`は「osという名前のパッケージ」が存在し，そこから「pathという名前のモジュール」をインポートするということになる．また，`import numpy as np`はインポートしたnumpyに対して「np」という名前をつけるということになる．\n",
        "\n",
        "\n",
        "※ 本来ならば一部のモジュールライブラリは別途インストールが必要だが，配布した仮想環境は既に必要なモジュールライブラリが全てインストールされているため，インストールについては割愛する．"
      ]
    },
    {
      "cell_type": "code",
      "metadata": {
        "id": "MLPeogSBJUSE"
      },
      "source": [
        "from os import path\n",
        "import numpy as np\n",
        "import matplotlib.pyplot as plt"
      ],
      "execution_count": null,
      "outputs": []
    },
    {
      "cell_type": "markdown",
      "metadata": {
        "id": "LwrsnYPS5LrK"
      },
      "source": [
        "##ファイルの読み込み\n",
        "次に，ファイルを開いて配列に入れる．Pythonには「リスト」と言う配列に似たものが標準で実装されているが，今回はnumpyの機能である配列を利用する．\n",
        "\n",
        "`path.join`はpathモジュール内にある関数で，パスを連結する関数である．ここでは`path.join('data', 'car.txt')`とあるので，`data/car.txt`を返す．\n",
        "\n",
        "変数`in_txt1`と`in_txt2`にはそれぞれ`data/car.txt`と`data/human.txt`への参照が入ることになる．"
      ]
    },
    {
      "cell_type": "code",
      "metadata": {
        "id": "3ViJGQHfJUUt"
      },
      "source": [
        "in_txt1 = open(path.join('data', 'car.txt'))\n",
        "in_txt2 = open(path.join('data', 'human.txt'))\n",
        "\n",
        "car = np.asarray([(line.strip()).split('\\t') for line in in_txt1], dtype=float)\n",
        "human = np.asarray([(line.strip()).split('\\t') for line in in_txt2], dtype=float)\n",
        "\n",
        "print(in_txt1)\n",
        "print(in_txt2)"
      ],
      "execution_count": null,
      "outputs": []
    },
    {
      "cell_type": "markdown",
      "metadata": {
        "id": "Voox5uSr6zIa"
      },
      "source": [
        "## 配列へ格納\n",
        "続いて，ファイルの中身を参照して配列に入れる．`car = np.asarray([(line.strip()).split('\\t') for line in in_txt1])`では，1行でいろいろなことをやっている．これは「リスト内包表記」と呼び，リストを生成するときに簡単に記述できるようにしたものである．\n",
        "この1行をわかりやすく書き直すと次の通りになる："
      ]
    },
    {
      "cell_type": "code",
      "metadata": {
        "id": "7MhhPAXNJUZo"
      },
      "source": [
        "in_txt1 = open(path.join('data', 'car.txt'))\n",
        "\n",
        "car = []\n",
        "for line in in_txt1:\n",
        "  car.append( (line.strip()).split('\\t') )\n",
        "car = np.asarray(car, dtype=float)"
      ],
      "execution_count": null,
      "outputs": []
    },
    {
      "cell_type": "markdown",
      "metadata": {
        "id": "Euue1o7u7ZRP"
      },
      "source": [
        "まず，`for line in in_txt1:`について説明する．このfor文の書き方はPython特有のものであり，ここでは「`in_txt1`の中身を変数`line`に1行ずつ入れて実行」という意味になる．これにより，テキストファイルを1行ずつ処理することができる．\n",
        "\n",
        "続いて，`(line.strip()).split('\\t')`の`line.strip()`は「文字列変数`line`から空白文字や改行コードを取り除く」ものである．これを行わずに処理を行うと，変数`line`に残っている改行コードが一緒に処理されてしまうため，変数やリストに改行コードが入ってしまうことになる．\n",
        "さらに続けて`.split('\\t')`と記述することにより，先程得られた改行コードのない文字列を「指定された文字列で区切る」ことができる．ここでは`'\\t'`つまりタブが指定されているため，タブで区切る．`1512.000000 (タブ) 26.779374`という文字列があったとき，この処理を行うことで`['1512.000000', '26.779374']`という1つの1次元リストにすることができる．\n",
        "\n",
        "以上の処理をテキストファイル全体に行ったあと，`np.asarray()`でnumpyの配列に変換している．\n"
      ]
    },
    {
      "cell_type": "code",
      "metadata": {
        "id": "7y8Dmupx6Ncz"
      },
      "source": [
        "print(car)"
      ],
      "execution_count": null,
      "outputs": []
    },
    {
      "cell_type": "markdown",
      "metadata": {
        "id": "1WD-2Qm68I5C"
      },
      "source": [
        "## グラフの描画\n",
        "次に，matplotlibを用いてグラフの描画を行う．\n",
        "\n",
        "### 1. グラフ描画の準備\n",
        "fig = plt.figure()で，新規のプロットウィンドウを作成する．ペイントソフトで例えると「新しいキャンパスの作成」にあたる．\n",
        "subfig = fig.add_subplot(1,1,1)は，プロットウィンドウにグラフを追加する．引数の1,1,1はそれぞれ行数,列数,何番目かを示す．ここではグラフは1つだけなので，すべて1で良い．\n",
        "次の2行はグラフの描画エリアを示すものである．xminおよびyminはX軸およびY軸の最小値，xmaxおよびymaxはX軸およびY軸の最大値である．\n",
        "\n",
        "\n",
        "### 2. データのプロット\n",
        "Pythonのリストやnumpyの配列では，`car[:,0]`のように:(コロン)を使うことで「その配列の要素すべて」を表すことができる．ここでは，`car[0,0]`,`car[1,0]`,`car[2,0]`,`car[3,0]`......と参照する．グラフのX軸を`car[:,0]`つまりファイルの1列目，Y軸を`car[:,1]`つまりファイルの2列目といった具合でプロットする．\n",
        "\n",
        "### 3. グラフのタイトルの追加と保存\n",
        "最後に，タイトル，横軸ラベル，縦軸ラベルを追加して保存する．\n",
        "\n",
        "プログラムの下部に赤と黒の散布図が表示されればOK．"
      ]
    },
    {
      "cell_type": "code",
      "metadata": {
        "id": "C3gY9w-Q8TC4"
      },
      "source": [
        "# 1. グラフ描画の準備\n",
        "fig = plt.figure()\n",
        "subfig = fig.add_subplot(1,1,1)\n",
        "plt.xlim(xmin=0, xmax = 10000)\n",
        "plt.ylim(ymin=0, ymax = 50)\n",
        "\n",
        "# 2. データのプロット\n",
        "subfig.scatter(car[:,0], car[:,1],color='black')\n",
        "subfig.scatter(human[:,0], human[:,1],color='red')\n",
        "\n",
        "# 3. グラフのタイトルの追加と保存\n",
        "subfig.set_title('Feature Distribution')\n",
        "subfig.set_xlabel('Area')\n",
        "subfig.set_ylabel('complexity')\n",
        "\n",
        "plt.savefig(\"01_graph.png\")\n",
        "plt.show()"
      ],
      "execution_count": null,
      "outputs": []
    },
    {
      "cell_type": "markdown",
      "metadata": {
        "id": "NweVowT58a-i"
      },
      "source": [
        "#課題\n",
        "\n",
        "1. carのプロット点をblackではなくblueに変更せよ．\n",
        "2. グラフのy軸の範囲を変更せよ．\n",
        "\n",
        "##ヒント\n",
        "\n",
        "1. `color=''`の記述を変えるだけ．\n",
        "2. Yの最小値は20が良い．"
      ]
    },
    {
      "cell_type": "code",
      "metadata": {
        "id": "pA7cHq1A2IPq"
      },
      "source": [],
      "execution_count": null,
      "outputs": []
    }
  ]
}